{
  "nbformat": 4,
  "nbformat_minor": 0,
  "metadata": {
    "colab": {
      "provenance": [],
      "authorship_tag": "ABX9TyO/GtIZy3lg/r5Bfi0cgwsj",
      "include_colab_link": true
    },
    "kernelspec": {
      "name": "python3",
      "display_name": "Python 3"
    },
    "language_info": {
      "name": "python"
    }
  },
  "cells": [
    {
      "cell_type": "markdown",
      "metadata": {
        "id": "view-in-github",
        "colab_type": "text"
      },
      "source": [
        "<a href=\"https://colab.research.google.com/github/Hali57/python-Hackathon-sol/blob/main/Python_Hackathon_challenge.ipynb\" target=\"_parent\"><img src=\"https://colab.research.google.com/assets/colab-badge.svg\" alt=\"Open In Colab\"/></a>"
      ]
    },
    {
      "cell_type": "markdown",
      "source": [
        "###Q1.CREATING A FIBONACCI SEQUENCE IN PYTHON"
      ],
      "metadata": {
        "id": "kvbrPiiYBXhN"
      }
    },
    {
      "cell_type": "code",
      "execution_count": null,
      "metadata": {
        "id": "m0igLjl-9f1_"
      },
      "outputs": [],
      "source": [
        "\n",
        "# Ask the user to input the value of n.\n",
        "# Create a function that takes n as a parameter and returns a list containing the first n terms of the Fibonacci sequence.\n",
        "# Print the generated Fibonacci sequence.\n",
        "\n",
        "def fibonacci(n):\n",
        "  \"\"\"\n",
        "  This function generates the Fibonacci sequence up to a specified term n using iteration.\n",
        "\n",
        "  Args:\n",
        "      n: The number of terms in the Fibonacci sequence.\n",
        "\n",
        "  Returns:\n",
        "      A list containing the Fibonacci sequence up to n terms.\n",
        "  \"\"\"\n",
        "  if n <= 1:\n",
        "    if n==0:\n",
        "      return 0\n",
        "    elif n==1:\n",
        "      return 1\n",
        "  else:\n",
        "    a, b = 0,1  # fibonacci sequence always starts with 0 and 1\n",
        "    for _ in range(2, n + 1):\n",
        "      c = a + b\n",
        "      a,b = b,c\n",
        "    return c\n",
        "\n",
        "# Get the number of terms from the user\n",
        "num_terms = int(input(\"Enter the number of terms: \"))\n",
        "\n",
        "# Generate the Fibonacci sequence\n",
        "fibonacci_sequence = [] #initialize the sequence with the common numbers i.e. o,1\n",
        "for i in range(num_terms):\n",
        "\n",
        "  fibonacci_sequence.append(fibonacci(i))\n",
        "\n",
        "# Print the Fibonacci sequence\n",
        "print(fibonacci_sequence)\n",
        "\n",
        "\n"
      ]
    },
    {
      "cell_type": "markdown",
      "source": [
        "###Q2). CONDITIONAL STATEMENTS  IN PYTHON.\n"
      ],
      "metadata": {
        "id": "BML3xFJWIhyQ"
      }
    },
    {
      "cell_type": "code",
      "source": [
        "# Create a Python program that:\n",
        "\n",
        "\n",
        "# - Prompts a user to enter their age.\n",
        "# - Uses a conditional statement to check if the age is greater than or equal to 18.\n",
        "# - Prints \"You are eligible to vote\" if true, otherwise \"You are not eligible to vote.\"\n",
        "\n",
        "def eligible_to_vote():\n",
        "    print(\"What to know if you are eligible to vote? Answer the next question to find out!! \\n\")\n",
        "    age = int(input(\"How old are you?  \"))\n",
        "\n",
        "    #check for eligibility\n",
        "    if age >= 18:\n",
        "      print(\"You are eligible to vote. \")\n",
        "\n",
        "    else:\n",
        "      print(\"You are not eligible to vote.\")\n",
        "\n",
        "\n",
        "eligible_to_vote()"
      ],
      "metadata": {
        "id": "D97hVds3Jife"
      },
      "execution_count": null,
      "outputs": []
    }
  ]
}